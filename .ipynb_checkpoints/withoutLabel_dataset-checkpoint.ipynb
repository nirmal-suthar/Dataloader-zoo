{
 "cells": [
  {
   "cell_type": "code",
   "execution_count": 2,
   "metadata": {},
   "outputs": [],
   "source": [
    "from torch.utils.data import Dataset\n",
    "from torchvision.datasets import ImageFolder"
   ]
  },
  {
   "cell_type": "code",
   "execution_count": 3,
   "metadata": {},
   "outputs": [],
   "source": [
    "class Celeb(Dataset):\n",
    "\n",
    "    def __init__(self, root, transform=None):\n",
    "        \n",
    "        self.root = root\n",
    "        self.transform = transform\n",
    "        self.dataset = self.preprocess()\n",
    "        self.num_images = len(self.dataset)\n",
    "\n",
    "    def preprocess(self):\n",
    "        \"\"\"Can be extended for further processing dataset\"\"\"\n",
    "\n",
    "        return ImageFolder(self, self.transform)\n",
    "\n",
    "\n",
    "    def __getitem__(self, index):\n",
    "        \"\"\"Return input for its corresponding index.\"\"\"\n",
    "        return self.dataset[index]\n",
    "\n",
    "\n",
    "    def __len__(self):\n",
    "        \"\"\"Return the number of images.\"\"\"\n",
    "        return self.num_images\n"
   ]
  }
 ],
 "metadata": {
  "kernelspec": {
   "display_name": "Python 3",
   "language": "python",
   "name": "python3"
  },
  "language_info": {
   "codemirror_mode": {
    "name": "ipython",
    "version": 3
   },
   "file_extension": ".py",
   "mimetype": "text/x-python",
   "name": "python",
   "nbconvert_exporter": "python",
   "pygments_lexer": "ipython3",
   "version": "3.7.3"
  }
 },
 "nbformat": 4,
 "nbformat_minor": 2
}
